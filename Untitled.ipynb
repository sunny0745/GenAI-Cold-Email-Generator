{
 "cells": [
  {
   "cell_type": "code",
   "execution_count": 1,
   "id": "fbc813ba-6952-4812-9495-ef3711965dbf",
   "metadata": {},
   "outputs": [
    {
     "name": "stdout",
     "output_type": "stream",
     "text": [
      "Collecting langchain-groq\n",
      "  Using cached langchain_groq-0.2.0-py3-none-any.whl.metadata (2.9 kB)\n",
      "Collecting groq<1,>=0.4.1 (from langchain-groq)\n",
      "  Using cached groq-0.11.0-py3-none-any.whl.metadata (13 kB)\n",
      "Collecting langchain-core<0.4,>=0.3 (from langchain-groq)\n",
      "  Using cached langchain_core-0.3.5-py3-none-any.whl.metadata (6.3 kB)\n",
      "Requirement already satisfied: anyio<5,>=3.5.0 in c:\\users\\sunny\\anaconda3\\lib\\site-packages (from groq<1,>=0.4.1->langchain-groq) (4.2.0)\n",
      "Requirement already satisfied: distro<2,>=1.7.0 in c:\\users\\sunny\\anaconda3\\lib\\site-packages (from groq<1,>=0.4.1->langchain-groq) (1.8.0)\n",
      "Requirement already satisfied: httpx<1,>=0.23.0 in c:\\users\\sunny\\anaconda3\\lib\\site-packages (from groq<1,>=0.4.1->langchain-groq) (0.27.0)\n",
      "Requirement already satisfied: pydantic<3,>=1.9.0 in c:\\users\\sunny\\anaconda3\\lib\\site-packages (from groq<1,>=0.4.1->langchain-groq) (1.10.12)\n",
      "Requirement already satisfied: sniffio in c:\\users\\sunny\\anaconda3\\lib\\site-packages (from groq<1,>=0.4.1->langchain-groq) (1.3.0)\n",
      "Requirement already satisfied: typing-extensions<5,>=4.7 in c:\\users\\sunny\\anaconda3\\lib\\site-packages (from groq<1,>=0.4.1->langchain-groq) (4.9.0)\n",
      "Requirement already satisfied: PyYAML>=5.3 in c:\\users\\sunny\\anaconda3\\lib\\site-packages (from langchain-core<0.4,>=0.3->langchain-groq) (6.0.1)\n",
      "Collecting jsonpatch<2.0,>=1.33 (from langchain-core<0.4,>=0.3->langchain-groq)\n",
      "  Using cached jsonpatch-1.33-py2.py3-none-any.whl.metadata (3.0 kB)\n",
      "Collecting langsmith<0.2.0,>=0.1.125 (from langchain-core<0.4,>=0.3->langchain-groq)\n",
      "  Using cached langsmith-0.1.126-py3-none-any.whl.metadata (13 kB)\n",
      "Collecting packaging<25,>=23.2 (from langchain-core<0.4,>=0.3->langchain-groq)\n",
      "  Downloading packaging-24.1-py3-none-any.whl.metadata (3.2 kB)\n",
      "Collecting pydantic<3,>=1.9.0 (from groq<1,>=0.4.1->langchain-groq)\n",
      "  Using cached pydantic-2.9.2-py3-none-any.whl.metadata (149 kB)\n",
      "Requirement already satisfied: tenacity!=8.4.0,<9.0.0,>=8.1.0 in c:\\users\\sunny\\anaconda3\\lib\\site-packages (from langchain-core<0.4,>=0.3->langchain-groq) (8.2.2)\n",
      "Requirement already satisfied: idna>=2.8 in c:\\users\\sunny\\anaconda3\\lib\\site-packages (from anyio<5,>=3.5.0->groq<1,>=0.4.1->langchain-groq) (3.4)\n",
      "Requirement already satisfied: certifi in c:\\users\\sunny\\anaconda3\\lib\\site-packages (from httpx<1,>=0.23.0->groq<1,>=0.4.1->langchain-groq) (2024.7.4)\n",
      "Requirement already satisfied: httpcore==1.* in c:\\users\\sunny\\anaconda3\\lib\\site-packages (from httpx<1,>=0.23.0->groq<1,>=0.4.1->langchain-groq) (1.0.2)\n",
      "Requirement already satisfied: h11<0.15,>=0.13 in c:\\users\\sunny\\anaconda3\\lib\\site-packages (from httpcore==1.*->httpx<1,>=0.23.0->groq<1,>=0.4.1->langchain-groq) (0.14.0)\n",
      "Requirement already satisfied: jsonpointer>=1.9 in c:\\users\\sunny\\anaconda3\\lib\\site-packages (from jsonpatch<2.0,>=1.33->langchain-core<0.4,>=0.3->langchain-groq) (2.1)\n",
      "Collecting orjson<4.0.0,>=3.9.14 (from langsmith<0.2.0,>=0.1.125->langchain-core<0.4,>=0.3->langchain-groq)\n",
      "  Downloading orjson-3.10.7-cp311-none-win_amd64.whl.metadata (51 kB)\n",
      "     ---------------------------------------- 0.0/51.7 kB ? eta -:--:--\n",
      "     --------------- ---------------------- 20.5/51.7 kB 320.0 kB/s eta 0:00:01\n",
      "     ------------------------------ ------- 41.0/51.7 kB 487.6 kB/s eta 0:00:01\n",
      "     -------------------------------------- 51.7/51.7 kB 440.6 kB/s eta 0:00:00\n",
      "Requirement already satisfied: requests<3,>=2 in c:\\users\\sunny\\anaconda3\\lib\\site-packages (from langsmith<0.2.0,>=0.1.125->langchain-core<0.4,>=0.3->langchain-groq) (2.31.0)\n",
      "Collecting annotated-types>=0.6.0 (from pydantic<3,>=1.9.0->groq<1,>=0.4.1->langchain-groq)\n",
      "  Using cached annotated_types-0.7.0-py3-none-any.whl.metadata (15 kB)\n",
      "Collecting pydantic-core==2.23.4 (from pydantic<3,>=1.9.0->groq<1,>=0.4.1->langchain-groq)\n",
      "  Downloading pydantic_core-2.23.4-cp311-none-win_amd64.whl.metadata (6.7 kB)\n",
      "Requirement already satisfied: charset-normalizer<4,>=2 in c:\\users\\sunny\\anaconda3\\lib\\site-packages (from requests<3,>=2->langsmith<0.2.0,>=0.1.125->langchain-core<0.4,>=0.3->langchain-groq) (2.0.4)\n",
      "Requirement already satisfied: urllib3<3,>=1.21.1 in c:\\users\\sunny\\anaconda3\\lib\\site-packages (from requests<3,>=2->langsmith<0.2.0,>=0.1.125->langchain-core<0.4,>=0.3->langchain-groq) (2.0.7)\n",
      "Using cached langchain_groq-0.2.0-py3-none-any.whl (14 kB)\n",
      "Using cached groq-0.11.0-py3-none-any.whl (106 kB)\n",
      "Using cached langchain_core-0.3.5-py3-none-any.whl (399 kB)\n",
      "Using cached jsonpatch-1.33-py2.py3-none-any.whl (12 kB)\n",
      "Using cached langsmith-0.1.126-py3-none-any.whl (290 kB)\n",
      "Downloading packaging-24.1-py3-none-any.whl (53 kB)\n",
      "   ---------------------------------------- 0.0/54.0 kB ? eta -:--:--\n",
      "   ---------------------------------------- 54.0/54.0 kB 2.7 MB/s eta 0:00:00\n",
      "Using cached pydantic-2.9.2-py3-none-any.whl (434 kB)\n",
      "Downloading pydantic_core-2.23.4-cp311-none-win_amd64.whl (1.9 MB)\n",
      "   ---------------------------------------- 0.0/1.9 MB ? eta -:--:--\n",
      "    --------------------------------------- 0.0/1.9 MB ? eta -:--:--\n",
      "   - -------------------------------------- 0.1/1.9 MB 1.1 MB/s eta 0:00:02\n",
      "   --- ------------------------------------ 0.2/1.9 MB 1.5 MB/s eta 0:00:02\n",
      "   ---- ----------------------------------- 0.2/1.9 MB 1.2 MB/s eta 0:00:02\n",
      "   ----- ---------------------------------- 0.3/1.9 MB 1.3 MB/s eta 0:00:02\n",
      "   ------- -------------------------------- 0.4/1.9 MB 1.5 MB/s eta 0:00:02\n",
      "   -------- ------------------------------- 0.4/1.9 MB 1.6 MB/s eta 0:00:01\n",
      "   ---------- ----------------------------- 0.5/1.9 MB 1.6 MB/s eta 0:00:01\n",
      "   ----------- ---------------------------- 0.6/1.9 MB 1.6 MB/s eta 0:00:01\n",
      "   ------------- -------------------------- 0.6/1.9 MB 1.6 MB/s eta 0:00:01\n",
      "   -------------- ------------------------- 0.7/1.9 MB 1.5 MB/s eta 0:00:01\n",
      "   --------------- ------------------------ 0.8/1.9 MB 1.5 MB/s eta 0:00:01\n",
      "   ----------------- ---------------------- 0.8/1.9 MB 1.6 MB/s eta 0:00:01\n",
      "   ------------------ --------------------- 0.9/1.9 MB 1.5 MB/s eta 0:00:01\n",
      "   -------------------- ------------------- 1.0/1.9 MB 1.6 MB/s eta 0:00:01\n",
      "   --------------------- ------------------ 1.0/1.9 MB 1.6 MB/s eta 0:00:01\n",
      "   ----------------------- ---------------- 1.1/1.9 MB 1.6 MB/s eta 0:00:01\n",
      "   ------------------------- -------------- 1.2/1.9 MB 1.6 MB/s eta 0:00:01\n",
      "   -------------------------- ------------- 1.2/1.9 MB 1.5 MB/s eta 0:00:01\n",
      "   ---------------------------- ----------- 1.4/1.9 MB 1.6 MB/s eta 0:00:01\n",
      "   ----------------------------- ---------- 1.4/1.9 MB 1.6 MB/s eta 0:00:01\n",
      "   -------------------------------- ------- 1.6/1.9 MB 1.6 MB/s eta 0:00:01\n",
      "   ---------------------------------- ----- 1.7/1.9 MB 1.7 MB/s eta 0:00:01\n",
      "   ----------------------------------- ---- 1.7/1.9 MB 1.7 MB/s eta 0:00:01\n",
      "   ------------------------------------ --- 1.8/1.9 MB 1.6 MB/s eta 0:00:01\n",
      "   ---------------------------------------  1.9/1.9 MB 1.7 MB/s eta 0:00:01\n",
      "   ---------------------------------------- 1.9/1.9 MB 1.7 MB/s eta 0:00:00\n",
      "Using cached annotated_types-0.7.0-py3-none-any.whl (13 kB)\n",
      "Downloading orjson-3.10.7-cp311-none-win_amd64.whl (137 kB)\n",
      "   ---------------------------------------- 0.0/137.3 kB ? eta -:--:--\n",
      "   -------------------------- ------------- 92.2/137.3 kB 5.1 MB/s eta 0:00:01\n",
      "   ---------------------------------------- 137.3/137.3 kB 2.7 MB/s eta 0:00:00\n",
      "Installing collected packages: pydantic-core, packaging, orjson, jsonpatch, annotated-types, pydantic, langsmith, groq, langchain-core, langchain-groq\n",
      "  Attempting uninstall: packaging\n",
      "    Found existing installation: packaging 23.1\n",
      "    Uninstalling packaging-23.1:\n",
      "      Successfully uninstalled packaging-23.1\n",
      "  Attempting uninstall: jsonpatch\n",
      "    Found existing installation: jsonpatch 1.32\n",
      "    Uninstalling jsonpatch-1.32:\n",
      "      Successfully uninstalled jsonpatch-1.32\n",
      "  Attempting uninstall: pydantic\n",
      "    Found existing installation: pydantic 1.10.12\n",
      "    Uninstalling pydantic-1.10.12:\n",
      "      Successfully uninstalled pydantic-1.10.12\n",
      "Successfully installed annotated-types-0.7.0 groq-0.11.0 jsonpatch-1.33 langchain-core-0.3.5 langchain-groq-0.2.0 langsmith-0.1.126 orjson-3.10.7 packaging-24.1 pydantic-2.9.2 pydantic-core-2.23.4\n",
      "Note: you may need to restart the kernel to use updated packages.\n"
     ]
    },
    {
     "name": "stderr",
     "output_type": "stream",
     "text": [
      "ERROR: pip's dependency resolver does not currently take into account all the packages that are installed. This behaviour is the source of the following dependency conflicts.\n",
      "streamlit 1.30.0 requires packaging<24,>=16.8, but you have packaging 24.1 which is incompatible.\n"
     ]
    }
   ],
   "source": [
    "pip install langchain-groq"
   ]
  },
  {
   "cell_type": "code",
   "execution_count": 9,
   "id": "22151d78-339b-4e14-882d-56f10c7c4315",
   "metadata": {},
   "outputs": [
    {
     "name": "stdout",
     "output_type": "stream",
     "text": [
      "The answer to this question is subjective and often depends on personal opinions, team loyalties, and individual performances. However, based on recent awards, accolades, and expert opinions, I can give you some of the top contenders:\n",
      "\n",
      "1. **Lionel Messi**: Regarded by many as one of the greatest football players of all time. He has won numerous awards, including seven Ballon d'Or awards, ten La Liga titles, and four UEFA Champions League titles.\n",
      "2. **Cristiano Ronaldo**: A five-time Ballon d'Or winner and one of the most successful players in the history of the sport. He has won numerous titles with Manchester United, Real Madrid, and Juventus, including five UEFA Champions League titles.\n",
      "3. **Kylian Mbappé**: A young and talented French forward who has already won numerous titles with Paris Saint-Germain and the French national team. He has been named the Ligue 1 Player of the Year multiple times and has won the FIFA World Cup with France.\n",
      "4. **Erling Haaland**: A Norwegian striker who has been making waves in the football world with his incredible goal-scoring record. He has won the Bundesliga Golden Boot and has been named the UEFA Champions League top scorer.\n",
      "5. **Robert Lewandowski**: A Polish striker who has been one of the most prolific goal-scorers in the world over the past decade. He has won numerous titles with Bayern Munich and has been named the Bundesliga top scorer multiple times.\n",
      "\n",
      "Of course, there are many other talented football players in the world, and opinions on the \"best\" player can vary depending on individual perspectives and criteria.\n",
      "\n",
      "As of my knowledge cutoff in 2023, the FIFA Men's World Player of the Year award was given to Lionel Messi, while the Ballon d'Or award was given to Karim Benzema. However, please note that these awards and rankings can change from year to year.\n"
     ]
    }
   ],
   "source": [
    "from langchain_groq import ChatGroq\n",
    "\n",
    "llm = ChatGroq(\n",
    "    model_name=\"llama-3.1-70b-versatile\",\n",
    "    temperature=0,\n",
    "    groq_api_key='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'\n",
    "   \n",
    ")\n",
    "\n",
    "response = llm.invoke(\"who is the best football player in the world\")\n",
    "print(response.content)"
   ]
  },
  {
   "cell_type": "code",
   "execution_count": null,
   "id": "83b6b3eb-c81c-4d99-9cef-b3553e135149",
   "metadata": {},
   "outputs": [],
   "source": []
  }
 ],
 "metadata": {
  "kernelspec": {
   "display_name": "Python 3 (ipykernel)",
   "language": "python",
   "name": "python3"
  },
  "language_info": {
   "codemirror_mode": {
    "name": "ipython",
    "version": 3
   },
   "file_extension": ".py",
   "mimetype": "text/x-python",
   "name": "python",
   "nbconvert_exporter": "python",
   "pygments_lexer": "ipython3",
   "version": "3.11.7"
  }
 },
 "nbformat": 4,
 "nbformat_minor": 5
}
